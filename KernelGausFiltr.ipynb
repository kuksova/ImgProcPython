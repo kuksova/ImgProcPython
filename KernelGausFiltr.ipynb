{
 "cells": [
  {
   "cell_type": "code",
   "execution_count": 50,
   "metadata": {},
   "outputs": [
    {
     "name": "stdout",
     "output_type": "stream",
     "text": [
      "0.00010\n",
      "0.00974\n",
      "0.00010\n",
      "0.00974\n",
      "0.96065\n",
      "0.00974\n",
      "0.00010\n",
      "0.00974\n",
      "0.00010\n"
     ]
    }
   ],
   "source": [
    "import numpy as np\n",
    "sigma = input()\n",
    "wight_filtr = round(3*float(sigma))\n",
    "\n",
    "def gaussian(sigma, x, y):\n",
    "    return (1 / (2 * np.pi * float(sigma) ** 2)) * np.e ** ((-x ** 2 - y ** 2) / (2 * float(sigma) ** 2))\n",
    "\n",
    "size = 2*wight_filtr+1\n",
    "K=np.zeros((size,size))\n",
    "for i in range (-wight_filtr,wight_filtr+1):\n",
    "    for j in range (-wight_filtr,wight_filtr+1):\n",
    "        K[i][j] = gaussian(sigma, i, j)\n",
    "K1 = K/np.sum(K)\n",
    "for i in range (-wight_filtr,wight_filtr+1):\n",
    "    for j in range (-wight_filtr,wight_filtr+1):\n",
    "        print('%2.5f'%(K1[i][j])) "
   ]
  },
  {
   "cell_type": "code",
   "execution_count": null,
   "metadata": {},
   "outputs": [],
   "source": []
  }
 ],
 "metadata": {
  "kernelspec": {
   "display_name": "Python 3",
   "language": "python",
   "name": "python3"
  },
  "language_info": {
   "codemirror_mode": {
    "name": "ipython",
    "version": 3
   },
   "file_extension": ".py",
   "mimetype": "text/x-python",
   "name": "python",
   "nbconvert_exporter": "python",
   "pygments_lexer": "ipython3",
   "version": "3.6.3"
  }
 },
 "nbformat": 4,
 "nbformat_minor": 2
}
