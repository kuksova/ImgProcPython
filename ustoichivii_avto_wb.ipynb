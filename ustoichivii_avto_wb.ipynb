{
 "cells": [
  {
   "cell_type": "code",
   "execution_count": 17,
   "metadata": {},
   "outputs": [],
   "source": [
    "from skimage.io import imread, imsave\n",
    "import numpy as np\n",
    "img = imread('tiger-low-contrast.png')\n",
    "img_f = img.astype('float')\n",
    "k = int(np.round(img.size * 0.05))\n",
    "img_sorted = np.sort(img_f.ravel())\n",
    "xmin = img_sorted[k]\n",
    "xmax = img_sorted[-k]\n"
   ]
  },
  {
   "cell_type": "code",
   "execution_count": 8,
   "metadata": {},
   "outputs": [
    {
     "data": {
      "text/plain": [
       "(129.0, 208.0)"
      ]
     },
     "execution_count": 8,
     "metadata": {},
     "output_type": "execute_result"
    }
   ],
   "source": [
    "xmin, xmax\n"
   ]
  },
  {
   "cell_type": "code",
   "execution_count": 10,
   "metadata": {},
   "outputs": [],
   "source": [
    "img_out = ((img_f - xmin) * (255.0 / (xmax - xmin)))\n"
   ]
  },
  {
   "cell_type": "code",
   "execution_count": 11,
   "metadata": {},
   "outputs": [
    {
     "data": {
      "text/plain": [
       "array([[  48.41772152,   38.73417722,   38.73417722, ...,   -3.2278481 ,\n",
       "          -3.2278481 ,   -3.2278481 ],\n",
       "       [  41.96202532,   45.18987342,   48.41772152, ...,   -3.2278481 ,\n",
       "          -3.2278481 ,   -3.2278481 ],\n",
       "       [  41.96202532,   41.96202532,   35.50632911, ...,   -3.2278481 ,\n",
       "          -3.2278481 ,   -3.2278481 ],\n",
       "       ..., \n",
       "       [ 138.79746835,  119.43037975,  125.88607595, ...,  158.16455696,\n",
       "         148.48101266,  132.34177215],\n",
       "       [ 119.43037975,  122.65822785,  122.65822785, ...,  135.56962025,\n",
       "         138.79746835,  148.48101266],\n",
       "       [ 119.43037975,  125.88607595,  122.65822785, ...,  145.25316456,\n",
       "         148.48101266,  145.25316456]])"
      ]
     },
     "execution_count": 11,
     "metadata": {},
     "output_type": "execute_result"
    }
   ],
   "source": [
    "img_out"
   ]
  },
  {
   "cell_type": "code",
   "execution_count": 12,
   "metadata": {},
   "outputs": [],
   "source": [
    "from numpy import clip\n",
    "img2 = clip(img_out,0,255)"
   ]
  },
  {
   "cell_type": "code",
   "execution_count": 13,
   "metadata": {},
   "outputs": [
    {
     "data": {
      "text/plain": [
       "array([[ 48,  38,  38, ...,   0,   0,   0],\n",
       "       [ 41,  45,  48, ...,   0,   0,   0],\n",
       "       [ 41,  41,  35, ...,   0,   0,   0],\n",
       "       ..., \n",
       "       [138, 119, 125, ..., 158, 148, 132],\n",
       "       [119, 122, 122, ..., 135, 138, 148],\n",
       "       [119, 125, 122, ..., 145, 148, 145]], dtype=uint8)"
      ]
     },
     "execution_count": 13,
     "metadata": {},
     "output_type": "execute_result"
    }
   ],
   "source": [
    "img2.astype('uint8')"
   ]
  },
  {
   "cell_type": "code",
   "execution_count": 16,
   "metadata": {},
   "outputs": [
    {
     "data": {
      "text/plain": [
       "True"
      ]
     },
     "execution_count": 16,
     "metadata": {},
     "output_type": "execute_result"
    }
   ],
   "source": [
    "img4 = imread('tiger-stable-contrast.png')\n",
    "np.array_equal(img2.astype('uint8'),img4)"
   ]
  },
  {
   "cell_type": "code",
   "execution_count": null,
   "metadata": {},
   "outputs": [],
   "source": []
  }
 ],
 "metadata": {
  "kernelspec": {
   "display_name": "Python 2",
   "language": "python",
   "name": "python2"
  },
  "language_info": {
   "codemirror_mode": {
    "name": "ipython",
    "version": 2
   },
   "file_extension": ".py",
   "mimetype": "text/x-python",
   "name": "python",
   "nbconvert_exporter": "python",
   "pygments_lexer": "ipython2",
   "version": "2.7.14"
  }
 },
 "nbformat": 4,
 "nbformat_minor": 2
}
