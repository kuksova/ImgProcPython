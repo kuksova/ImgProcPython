{
 "cells": [
  {
   "cell_type": "code",
   "execution_count": 2,
   "metadata": {},
   "outputs": [],
   "source": [
    "from skimage.io import imread,imsave, imshow\n",
    "img = imread('tiger-low-contrast.png')\n",
    "img_f = img.astype('float')\n",
    "a = img_f.min()\n",
    "b = 255/(img_f.max() - img_f.min())\n",
    "img1 = (img_f-a)*b"
   ]
  },
  {
   "cell_type": "code",
   "execution_count": 3,
   "metadata": {},
   "outputs": [
    {
     "data": {
      "text/plain": [
       "array([[  40. ,   32.5,   32.5, ...,    0. ,    0. ,    0. ],\n",
       "       [  35. ,   37.5,   40. , ...,    0. ,    0. ,    0. ],\n",
       "       [  35. ,   35. ,   30. , ...,    0. ,    0. ,    0. ],\n",
       "       ..., \n",
       "       [ 110. ,   95. ,  100. , ...,  125. ,  117.5,  105. ],\n",
       "       [  95. ,   97.5,   97.5, ...,  107.5,  110. ,  117.5],\n",
       "       [  95. ,  100. ,   97.5, ...,  115. ,  117.5,  115. ]])"
      ]
     },
     "execution_count": 3,
     "metadata": {},
     "output_type": "execute_result"
    }
   ],
   "source": [
    "img1"
   ]
  },
  {
   "cell_type": "code",
   "execution_count": 8,
   "metadata": {},
   "outputs": [],
   "source": [
    "from numpy import clip\n",
    "img2 = clip(img1,0,255)"
   ]
  },
  {
   "cell_type": "code",
   "execution_count": null,
   "metadata": {},
   "outputs": [],
   "source": [
    "img2.astype('uint8')"
   ]
  },
  {
   "cell_type": "code",
   "execution_count": 5,
   "metadata": {},
   "outputs": [],
   "source": [
    "imgH = imread('tiger-high-contrast.png')"
   ]
  },
  {
   "cell_type": "code",
   "execution_count": 6,
   "metadata": {},
   "outputs": [],
   "source": [
    "from numpy import array_equal"
   ]
  },
  {
   "cell_type": "code",
   "execution_count": 9,
   "metadata": {},
   "outputs": [
    {
     "data": {
      "text/plain": [
       "True"
      ]
     },
     "execution_count": 9,
     "metadata": {},
     "output_type": "execute_result"
    }
   ],
   "source": [
    "array_equal(imgH,img2.astype('uint8'))"
   ]
  },
  {
   "cell_type": "code",
   "execution_count": null,
   "metadata": {},
   "outputs": [],
   "source": []
  }
 ],
 "metadata": {
  "kernelspec": {
   "display_name": "Python 2",
   "language": "python",
   "name": "python2"
  },
  "language_info": {
   "codemirror_mode": {
    "name": "ipython",
    "version": 2
   },
   "file_extension": ".py",
   "mimetype": "text/x-python",
   "name": "python",
   "nbconvert_exporter": "python",
   "pygments_lexer": "ipython2",
   "version": "2.7.14"
  }
 },
 "nbformat": 4,
 "nbformat_minor": 2
}
